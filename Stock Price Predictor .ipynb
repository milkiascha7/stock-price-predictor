{
 "cells": [
  {
   "cell_type": "markdown",
   "metadata": {},
   "source": [
    "### Stock Price Predictor \n",
    "\n",
    "In this project, we will work on a time series problem or I can say regression problem which is a Stock Price Prediction, We will Predict the stock prices of Gold.  \n",
    "You can work on any.  \n",
    "\n",
    "Requirements:- \n",
    "\n",
    "- You should have completed Linear Regression Section \n",
    "- You should hvae completed the Support Vector Machine Section  \n",
    "\n",
    "In this project, we will develop our stock price predictor using only these two predictors. In research papers, SVM, Regression algorithms  works best as compared to any other machine learning algorithms, ofc ensembling learning, stacking will work which we will study in details in further sections.  \n",
    "So, let's get started with this project. \n",
    "\n",
    "Before you get started, be sure you have downloaded the following package:- \n",
    "```Python \n",
    "pip install yfinance \n",
    "``` \n",
    "\n",
    "ONLY for Educational"
   ]
  },
  {
   "cell_type": "code",
   "execution_count": 4,
   "metadata": {
    "scrolled": true
   },
   "outputs": [
    {
     "name": "stdout",
     "output_type": "stream",
     "text": [
      "Requirement already satisfied: yfinance in c:\\users\\milkias\\anaconda3\\lib\\site-packages (0.2.43)\n",
      "Requirement already satisfied: pandas>=1.3.0 in c:\\users\\milkias\\anaconda3\\lib\\site-packages (from yfinance) (2.2.2)\n",
      "Requirement already satisfied: numpy>=1.16.5 in c:\\users\\milkias\\anaconda3\\lib\\site-packages (from yfinance) (1.26.4)\n",
      "Requirement already satisfied: requests>=2.31 in c:\\users\\milkias\\anaconda3\\lib\\site-packages (from yfinance) (2.32.2)\n",
      "Requirement already satisfied: multitasking>=0.0.7 in c:\\users\\milkias\\anaconda3\\lib\\site-packages (from yfinance) (0.0.11)\n",
      "Requirement already satisfied: lxml>=4.9.1 in c:\\users\\milkias\\anaconda3\\lib\\site-packages (from yfinance) (5.2.1)\n",
      "Requirement already satisfied: platformdirs>=2.0.0 in c:\\users\\milkias\\anaconda3\\lib\\site-packages (from yfinance) (3.10.0)\n",
      "Requirement already satisfied: pytz>=2022.5 in c:\\users\\milkias\\anaconda3\\lib\\site-packages (from yfinance) (2024.1)\n",
      "Requirement already satisfied: frozendict>=2.3.4 in c:\\users\\milkias\\anaconda3\\lib\\site-packages (from yfinance) (2.4.2)\n",
      "Requirement already satisfied: peewee>=3.16.2 in c:\\users\\milkias\\anaconda3\\lib\\site-packages (from yfinance) (3.17.6)\n",
      "Requirement already satisfied: beautifulsoup4>=4.11.1 in c:\\users\\milkias\\anaconda3\\lib\\site-packages (from yfinance) (4.12.3)\n",
      "Requirement already satisfied: html5lib>=1.1 in c:\\users\\milkias\\anaconda3\\lib\\site-packages (from yfinance) (1.1)\n",
      "Requirement already satisfied: soupsieve>1.2 in c:\\users\\milkias\\anaconda3\\lib\\site-packages (from beautifulsoup4>=4.11.1->yfinance) (2.5)\n",
      "Requirement already satisfied: six>=1.9 in c:\\users\\milkias\\anaconda3\\lib\\site-packages (from html5lib>=1.1->yfinance) (1.16.0)\n",
      "Requirement already satisfied: webencodings in c:\\users\\milkias\\anaconda3\\lib\\site-packages (from html5lib>=1.1->yfinance) (0.5.1)\n",
      "Requirement already satisfied: python-dateutil>=2.8.2 in c:\\users\\milkias\\anaconda3\\lib\\site-packages (from pandas>=1.3.0->yfinance) (2.9.0.post0)\n",
      "Requirement already satisfied: tzdata>=2022.7 in c:\\users\\milkias\\anaconda3\\lib\\site-packages (from pandas>=1.3.0->yfinance) (2023.3)\n",
      "Requirement already satisfied: charset-normalizer<4,>=2 in c:\\users\\milkias\\anaconda3\\lib\\site-packages (from requests>=2.31->yfinance) (2.0.4)\n",
      "Requirement already satisfied: idna<4,>=2.5 in c:\\users\\milkias\\anaconda3\\lib\\site-packages (from requests>=2.31->yfinance) (3.7)\n",
      "Requirement already satisfied: urllib3<3,>=1.21.1 in c:\\users\\milkias\\anaconda3\\lib\\site-packages (from requests>=2.31->yfinance) (2.2.2)\n",
      "Requirement already satisfied: certifi>=2017.4.17 in c:\\users\\milkias\\anaconda3\\lib\\site-packages (from requests>=2.31->yfinance) (2024.8.30)\n",
      "Note: you may need to restart the kernel to use updated packages.\n"
     ]
    }
   ],
   "source": [
    "pip install yfinance "
   ]
  },
  {
   "cell_type": "code",
   "execution_count": 6,
   "metadata": {},
   "outputs": [],
   "source": [
    "import numpy as np \n",
    "import pandas as pd   \n",
    "\n",
    "import yfinance as yf \n",
    "\n",
    "import seaborn as sns \n",
    "import matplotlib.pyplot as plt   \n",
    "%matplotlib inline "
   ]
  },
  {
   "cell_type": "code",
   "execution_count": 8,
   "metadata": {},
   "outputs": [
    {
     "name": "stdout",
     "output_type": "stream",
     "text": [
      "Enter the code of the stock:-  NG=F\n"
     ]
    },
    {
     "name": "stderr",
     "output_type": "stream",
     "text": [
      "[*********************100%***********************]  1 of 1 completed\n"
     ]
    },
    {
     "data": {
      "text/html": [
       "<div>\n",
       "<style scoped>\n",
       "    .dataframe tbody tr th:only-of-type {\n",
       "        vertical-align: middle;\n",
       "    }\n",
       "\n",
       "    .dataframe tbody tr th {\n",
       "        vertical-align: top;\n",
       "    }\n",
       "\n",
       "    .dataframe thead th {\n",
       "        text-align: right;\n",
       "    }\n",
       "</style>\n",
       "<table border=\"1\" class=\"dataframe\">\n",
       "  <thead>\n",
       "    <tr style=\"text-align: right;\">\n",
       "      <th></th>\n",
       "      <th>Open</th>\n",
       "      <th>High</th>\n",
       "      <th>Low</th>\n",
       "      <th>Close</th>\n",
       "      <th>Volume</th>\n",
       "    </tr>\n",
       "    <tr>\n",
       "      <th>Date</th>\n",
       "      <th></th>\n",
       "      <th></th>\n",
       "      <th></th>\n",
       "      <th></th>\n",
       "      <th></th>\n",
       "    </tr>\n",
       "  </thead>\n",
       "  <tbody>\n",
       "    <tr>\n",
       "      <th>2008-01-02</th>\n",
       "      <td>7.572</td>\n",
       "      <td>7.876</td>\n",
       "      <td>7.564</td>\n",
       "      <td>7.850</td>\n",
       "      <td>68553</td>\n",
       "    </tr>\n",
       "    <tr>\n",
       "      <th>2008-01-03</th>\n",
       "      <td>7.873</td>\n",
       "      <td>7.980</td>\n",
       "      <td>7.610</td>\n",
       "      <td>7.674</td>\n",
       "      <td>72742</td>\n",
       "    </tr>\n",
       "    <tr>\n",
       "      <th>2008-01-04</th>\n",
       "      <td>7.652</td>\n",
       "      <td>7.859</td>\n",
       "      <td>7.500</td>\n",
       "      <td>7.841</td>\n",
       "      <td>61496</td>\n",
       "    </tr>\n",
       "    <tr>\n",
       "      <th>2008-01-07</th>\n",
       "      <td>7.803</td>\n",
       "      <td>7.940</td>\n",
       "      <td>7.701</td>\n",
       "      <td>7.879</td>\n",
       "      <td>56675</td>\n",
       "    </tr>\n",
       "    <tr>\n",
       "      <th>2008-01-08</th>\n",
       "      <td>7.909</td>\n",
       "      <td>7.997</td>\n",
       "      <td>7.880</td>\n",
       "      <td>7.967</td>\n",
       "      <td>53775</td>\n",
       "    </tr>\n",
       "  </tbody>\n",
       "</table>\n",
       "</div>"
      ],
      "text/plain": [
       "             Open   High    Low  Close  Volume\n",
       "Date                                          \n",
       "2008-01-02  7.572  7.876  7.564  7.850   68553\n",
       "2008-01-03  7.873  7.980  7.610  7.674   72742\n",
       "2008-01-04  7.652  7.859  7.500  7.841   61496\n",
       "2008-01-07  7.803  7.940  7.701  7.879   56675\n",
       "2008-01-08  7.909  7.997  7.880  7.967   53775"
      ]
     },
     "execution_count": 8,
     "metadata": {},
     "output_type": "execute_result"
    }
   ],
   "source": [
    "stocks = input(\"Enter the code of the stock:- \") \n",
    "data = yf.download(stocks, \"2008-01-01\", \"2021-01-18\", auto_adjust=True) \n",
    "data.head()"
   ]
  },
  {
   "cell_type": "code",
   "execution_count": 10,
   "metadata": {},
   "outputs": [
    {
     "data": {
      "text/plain": [
       "(3282, 5)"
      ]
     },
     "execution_count": 10,
     "metadata": {},
     "output_type": "execute_result"
    }
   ],
   "source": [
    "data.shape "
   ]
  },
  {
   "cell_type": "code",
   "execution_count": 12,
   "metadata": {},
   "outputs": [
    {
     "name": "stdout",
     "output_type": "stream",
     "text": [
      "<class 'pandas.core.frame.DataFrame'>\n",
      "DatetimeIndex: 3282 entries, 2008-01-02 to 2021-01-15\n",
      "Data columns (total 5 columns):\n",
      " #   Column  Non-Null Count  Dtype  \n",
      "---  ------  --------------  -----  \n",
      " 0   Open    3282 non-null   float64\n",
      " 1   High    3282 non-null   float64\n",
      " 2   Low     3282 non-null   float64\n",
      " 3   Close   3282 non-null   float64\n",
      " 4   Volume  3282 non-null   int64  \n",
      "dtypes: float64(4), int64(1)\n",
      "memory usage: 153.8 KB\n"
     ]
    }
   ],
   "source": [
    "data.info()"
   ]
  },
  {
   "cell_type": "code",
   "execution_count": 7,
   "metadata": {},
   "outputs": [
    {
     "data": {
      "text/html": [
       "<div>\n",
       "<style scoped>\n",
       "    .dataframe tbody tr th:only-of-type {\n",
       "        vertical-align: middle;\n",
       "    }\n",
       "\n",
       "    .dataframe tbody tr th {\n",
       "        vertical-align: top;\n",
       "    }\n",
       "\n",
       "    .dataframe thead th {\n",
       "        text-align: right;\n",
       "    }\n",
       "</style>\n",
       "<table border=\"1\" class=\"dataframe\">\n",
       "  <thead>\n",
       "    <tr style=\"text-align: right;\">\n",
       "      <th></th>\n",
       "      <th>Open</th>\n",
       "      <th>High</th>\n",
       "      <th>Low</th>\n",
       "      <th>Close</th>\n",
       "      <th>Volume</th>\n",
       "    </tr>\n",
       "  </thead>\n",
       "  <tbody>\n",
       "    <tr>\n",
       "      <th>count</th>\n",
       "      <td>3256.000000</td>\n",
       "      <td>3256.000000</td>\n",
       "      <td>3256.000000</td>\n",
       "      <td>3256.000000</td>\n",
       "      <td>3256.000000</td>\n",
       "    </tr>\n",
       "    <tr>\n",
       "      <th>mean</th>\n",
       "      <td>3.710604</td>\n",
       "      <td>3.784235</td>\n",
       "      <td>3.632463</td>\n",
       "      <td>3.704380</td>\n",
       "      <td>131832.353808</td>\n",
       "    </tr>\n",
       "    <tr>\n",
       "      <th>std</th>\n",
       "      <td>1.827700</td>\n",
       "      <td>1.863149</td>\n",
       "      <td>1.787076</td>\n",
       "      <td>1.822525</td>\n",
       "      <td>54227.259508</td>\n",
       "    </tr>\n",
       "    <tr>\n",
       "      <th>min</th>\n",
       "      <td>1.441000</td>\n",
       "      <td>1.567000</td>\n",
       "      <td>1.432000</td>\n",
       "      <td>1.482000</td>\n",
       "      <td>0.000000</td>\n",
       "    </tr>\n",
       "    <tr>\n",
       "      <th>25%</th>\n",
       "      <td>2.691000</td>\n",
       "      <td>2.735000</td>\n",
       "      <td>2.643000</td>\n",
       "      <td>2.692000</td>\n",
       "      <td>92091.250000</td>\n",
       "    </tr>\n",
       "    <tr>\n",
       "      <th>50%</th>\n",
       "      <td>3.251500</td>\n",
       "      <td>3.300500</td>\n",
       "      <td>3.178000</td>\n",
       "      <td>3.238000</td>\n",
       "      <td>127025.000000</td>\n",
       "    </tr>\n",
       "    <tr>\n",
       "      <th>75%</th>\n",
       "      <td>4.155250</td>\n",
       "      <td>4.240250</td>\n",
       "      <td>4.064250</td>\n",
       "      <td>4.151000</td>\n",
       "      <td>161796.000000</td>\n",
       "    </tr>\n",
       "    <tr>\n",
       "      <th>max</th>\n",
       "      <td>13.580000</td>\n",
       "      <td>13.694000</td>\n",
       "      <td>13.304000</td>\n",
       "      <td>13.505000</td>\n",
       "      <td>459196.000000</td>\n",
       "    </tr>\n",
       "  </tbody>\n",
       "</table>\n",
       "</div>"
      ],
      "text/plain": [
       "              Open         High          Low        Close         Volume\n",
       "count  3256.000000  3256.000000  3256.000000  3256.000000    3256.000000\n",
       "mean      3.710604     3.784235     3.632463     3.704380  131832.353808\n",
       "std       1.827700     1.863149     1.787076     1.822525   54227.259508\n",
       "min       1.441000     1.567000     1.432000     1.482000       0.000000\n",
       "25%       2.691000     2.735000     2.643000     2.692000   92091.250000\n",
       "50%       3.251500     3.300500     3.178000     3.238000  127025.000000\n",
       "75%       4.155250     4.240250     4.064250     4.151000  161796.000000\n",
       "max      13.580000    13.694000    13.304000    13.505000  459196.000000"
      ]
     },
     "execution_count": 7,
     "metadata": {},
     "output_type": "execute_result"
    }
   ],
   "source": [
    "data.describe()"
   ]
  },
  {
   "cell_type": "code",
   "execution_count": 18,
   "metadata": {},
   "outputs": [
    {
     "data": {
      "image/png": "[encoded data removed]",
      "text/plain": [
       "<Figure size 1000x700 with 1 Axes>"
      ]
     },
     "metadata": {},
     "output_type": "display_data"
    }
   ],
   "source": [
    "data.Close.plot(figsize=(10, 7),color='r')\n",
    "plt.ylabel(\"{} Prices\".format(stocks))\n",
    "plt.title(\"{} Price Series\".format(stocks))\n",
    "plt.show()"
   ]
  },
  {
   "cell_type": "code",
   "execution_count": 20,
   "metadata": {},
   "outputs": [
    {
     "name": "stderr",
     "output_type": "stream",
     "text": [
      "C:\\Users\\Milkias\\AppData\\Local\\Temp\\ipykernel_40536\\2693321050.py:1: UserWarning: \n",
      "\n",
      "`distplot` is a deprecated function and will be removed in seaborn v0.14.0.\n",
      "\n",
      "Please adapt your code to use either `displot` (a figure-level function with\n",
      "similar flexibility) or `histplot` (an axes-level function for histograms).\n",
      "\n",
      "For a guide to updating your code to use the new functions, please see\n",
      "https://gist.github.com/mwaskom/de44147ed2974457ad6372750bbe5751\n",
      "\n",
      "  sns.distplot(data[\"Close\"])\n"
     ]
    },
    {
     "data": {
      "text/plain": [
       "<Axes: xlabel='Close', ylabel='Density'>"
      ]
     },
     "execution_count": 20,
     "metadata": {},
     "output_type": "execute_result"
    },
    {
     "data": {
      "image/png": "[encoded data removed]",
      "text/plain": [
       "<Figure size 640x480 with 1 Axes>"
      ]
     },
     "metadata": {},
     "output_type": "display_data"
    }
   ],
   "source": [
    "sns.distplot(data[\"Close\"])"
   ]
  },
  {
   "cell_type": "code",
   "execution_count": 22,
   "metadata": {},
   "outputs": [
    {
     "name": "stderr",
     "output_type": "stream",
     "text": [
      "C:\\Users\\Milkias\\AppData\\Local\\Temp\\ipykernel_40536\\3218051027.py:1: UserWarning: \n",
      "\n",
      "`distplot` is a deprecated function and will be removed in seaborn v0.14.0.\n",
      "\n",
      "Please adapt your code to use either `displot` (a figure-level function with\n",
      "similar flexibility) or `histplot` (an axes-level function for histograms).\n",
      "\n",
      "For a guide to updating your code to use the new functions, please see\n",
      "https://gist.github.com/mwaskom/de44147ed2974457ad6372750bbe5751\n",
      "\n",
      "  sns.distplot(data[\"Open\"])\n"
     ]
    },
    {
     "data": {
      "text/plain": [
       "<Axes: xlabel='Open', ylabel='Density'>"
      ]
     },
     "execution_count": 22,
     "metadata": {},
     "output_type": "execute_result"
    },
    {
     "data": {
      "image/png": "[encoded data removed]",
      "text/plain": [
       "<Figure size 640x480 with 1 Axes>"
      ]
     },
     "metadata": {},
     "output_type": "display_data"
    }
   ],
   "source": [
    "sns.distplot(data[\"Open\"])"
   ]
  },
  {
   "cell_type": "code",
   "execution_count": 24,
   "metadata": {},
   "outputs": [
    {
     "name": "stderr",
     "output_type": "stream",
     "text": [
      "C:\\Users\\Milkias\\AppData\\Local\\Temp\\ipykernel_40536\\3277148864.py:1: UserWarning: \n",
      "\n",
      "`distplot` is a deprecated function and will be removed in seaborn v0.14.0.\n",
      "\n",
      "Please adapt your code to use either `displot` (a figure-level function with\n",
      "similar flexibility) or `histplot` (an axes-level function for histograms).\n",
      "\n",
      "For a guide to updating your code to use the new functions, please see\n",
      "https://gist.github.com/mwaskom/de44147ed2974457ad6372750bbe5751\n",
      "\n",
      "  sns.distplot(data[\"High\"])\n"
     ]
    },
    {
     "data": {
      "text/plain": [
       "<Axes: xlabel='High', ylabel='Density'>"
      ]
     },
     "execution_count": 24,
     "metadata": {},
     "output_type": "execute_result"
    },
    {
     "data": {
      "image/png": "[encoded data removed]",
      "text/plain": [
       "<Figure size 640x480 with 1 Axes>"
      ]
     },
     "metadata": {},
     "output_type": "display_data"
    }
   ],
   "source": [
    "sns.distplot(data[\"High\"])"
   ]
  },
  {
   "cell_type": "code",
   "execution_count": 26,
   "metadata": {},
   "outputs": [
    {
     "name": "stdout",
     "output_type": "stream",
     "text": [
      "(2625, 4)\n",
      "(657, 4)\n",
      "(2625,)\n",
      "(657,)\n"
     ]
    }
   ],
   "source": [
    "# Conlusions  \n",
    "\n",
    "# - Shape the of the data  \n",
    "# - how our data is distributed \n",
    "# - It's very very non linear  \n",
    "\n",
    "# Linear, Logis, Regularized, SVM \n",
    "\n",
    "# this removes the 'close' column from the dataset and saves the remaining columns which are 'Open,High, Low, Volume' as features(independent variables)\n",
    "X = data.drop(\"Close\", axis=1)\n",
    "\n",
    "# this defines the target variable y, which is the stock's 'Close' price (the value you want to predict)\n",
    "y = data[\"Close\"]  \n",
    "\n",
    "# this function splits the data into training and testing sets\n",
    "from sklearn.model_selection import train_test_split \n",
    "\n",
    "\n",
    "# X_train: features for training the model\n",
    "# X_test: features for testing the model\n",
    "# y_train: target values for training\n",
    "# y_test: target values for testing\n",
    "\n",
    "#the text_size=0.2 means that 20% is reserved for testing, and the remaining 80% is used for training.   The random_state=0 ensures the results are reproducible\n",
    "X_train, X_test, y_train, y_test  = train_test_split(X,y,test_size=0.2, random_state=0) \n",
    "print(X_train.shape) \n",
    "print(X_test.shape) \n",
    "print(y_train.shape) \n",
    "print(y_test.shape) \n",
    "\n"
   ]
  },
  {
   "cell_type": "code",
   "execution_count": 30,
   "metadata": {
    "scrolled": true
   },
   "outputs": [
    {
     "data": {
      "text/plain": [
       "array([ 2.80025521,  5.71452107,  2.67598004,  5.96209712,  2.11272627,\n",
       "       12.78073553,  3.96962911,  4.87093937,  1.7957296 ,  4.77535218,\n",
       "        2.88317702,  3.52438236,  2.78074708,  2.97823651,  4.2320276 ,\n",
       "        2.46605691,  4.14343586,  4.57617542,  9.00290889,  2.93461728,\n",
       "        4.41981471,  2.6638892 ,  2.54609005,  2.35659708,  2.85304719,\n",
       "        1.96549634,  2.77466247,  3.91456824,  3.30051883,  4.7520832 ,\n",
       "        4.02003703,  2.7084426 , 11.73817085,  4.23592618,  4.39406688,\n",
       "        3.68320373,  3.52338075,  5.32779806,  3.6551215 ,  3.42242166,\n",
       "        3.96382871,  2.42903792,  2.68051977,  2.61045398,  3.13018683,\n",
       "        4.4270207 ,  4.27296423,  2.75934544,  3.85466274,  1.99377504,\n",
       "        4.10987778,  2.45974884,  2.27348621,  3.96081824,  1.9306302 ,\n",
       "        3.23567102,  3.76555422,  4.96458716,  4.33327308,  3.4028305 ,\n",
       "        2.71162414,  3.90478554,  4.75601461,  3.15688221,  2.4433227 ,\n",
       "        2.55267657,  4.36853634,  3.90557551,  2.4086365 ,  2.85591592,\n",
       "        4.80443104,  2.8091012 ,  3.71938044,  4.39546873,  8.14468396,\n",
       "        3.78689605,  2.14085684,  4.41155869,  3.96480016,  2.05585265,\n",
       "        2.96044523,  1.82129173,  7.90103887,  2.74804643,  2.76341226,\n",
       "        2.57929039,  2.94658562,  2.61119412,  4.37940316,  2.58492868,\n",
       "        2.83129615, 13.04693695,  3.29325376,  4.40759475,  2.74585619,\n",
       "        2.96205382,  4.34157599,  3.7573663 ,  2.93209602,  3.81301898,\n",
       "        2.94037428,  3.67882682,  2.76969395,  2.94431215,  3.15715222,\n",
       "        2.69463878,  4.50081947,  1.61604406,  2.96141904,  4.01852184,\n",
       "        6.71841138,  3.73650383,  1.96708083,  2.98029051,  2.84472696,\n",
       "        4.7479714 ,  4.03720039,  2.81620144,  3.5894751 ,  3.29725746,\n",
       "        2.66962773,  5.35212074,  3.01733076,  2.61089783,  3.77572267,\n",
       "        2.17913658,  4.57369179,  4.85269089,  4.12791115,  3.98770631,\n",
       "        3.45616333,  6.57559334,  4.44341562,  5.01207288,  4.58105818,\n",
       "        3.04260618,  3.845115  ,  3.47501459,  2.13900044,  3.98605071,\n",
       "        2.98342741,  2.15289707,  5.86673531,  2.81820959,  1.78098109,\n",
       "        1.70966907,  3.13206137,  3.57201206,  2.93006641,  2.82845155,\n",
       "        4.91114873,  2.95042019,  4.2250416 ,  2.62571451,  1.76723021,\n",
       "        3.94993145,  2.89185929,  2.91905983,  4.50766721,  3.52043512,\n",
       "        4.32981012,  2.23162888,  2.26621723,  2.96738807,  3.28152962,\n",
       "        4.07056883,  3.79475223,  1.97082476,  6.74714117,  1.84119539,\n",
       "        2.39742513,  3.04006186,  2.94853292,  3.24091571,  3.82997679,\n",
       "        1.71511111,  3.74292505,  2.8753251 ,  2.42110189,  8.69322539,\n",
       "        2.80790575,  2.77134932,  2.68790924,  4.50438651,  3.92602826,\n",
       "        3.94953379,  2.5373144 ,  2.70633193,  2.95295195,  8.81735039,\n",
       "        1.87380638,  2.57098165,  3.16157991,  3.03424311,  2.90369759,\n",
       "        6.88823402,  3.81390382,  4.76408818,  2.73558355,  3.88985365,\n",
       "        2.54464031,  5.64950586,  3.40829703,  4.17949351,  2.83944867,\n",
       "        2.5778381 ,  2.56773306,  5.46968954,  4.53631389,  3.89981889,\n",
       "        4.74508112,  3.78445094,  3.61049342,  3.75352351,  2.23826856,\n",
       "        2.65398178,  1.89081909,  2.96171192,  2.2663065 ,  5.68573652,\n",
       "        3.73646469,  3.12579022,  3.91092447,  3.13840123,  1.63330822,\n",
       "        2.89946557,  5.00391673,  2.88730789,  4.3877614 ,  3.23663974,\n",
       "        4.09767154,  3.13230569,  4.62062052,  3.1604001 ,  3.14907702,\n",
       "        3.98205328,  4.12786856,  1.70408418,  2.25155394,  2.58570554,\n",
       "        4.11095087,  4.87404278,  3.8882599 ,  2.69351067,  3.71193299,\n",
       "        2.76743906,  3.95708814,  4.40820275,  2.3415753 ,  4.30387928,\n",
       "        4.73633541,  2.89178703,  3.30289272,  3.69019629,  2.07230537,\n",
       "        3.28925201,  4.04623537,  6.05854498,  3.32397316,  3.83695864,\n",
       "        2.48520494,  2.8118153 ,  4.24021474,  4.34443085,  8.0823413 ,\n",
       "        6.74978612,  2.02888987, 13.38610081,  2.59953525,  3.82260488,\n",
       "        2.3099757 ,  3.90127434,  3.75986663,  2.65406865,  3.86267332,\n",
       "       11.99246521,  3.87605062,  3.82042062,  4.4041632 ,  2.80793154,\n",
       "        3.29230894,  2.93861508,  3.64222069,  2.96043325, 10.25415631,\n",
       "        2.76216804,  1.99773072,  4.1028383 ,  3.66951773,  3.13848684,\n",
       "        3.3615927 ,  2.59072043,  4.4201242 ,  2.27359123,  2.80995154,\n",
       "        4.39328723,  1.84271355,  5.48269538,  7.16041103,  2.70230658,\n",
       "        2.47900766,  2.55732546,  3.45149459,  3.15398297,  2.33640811,\n",
       "        1.85060622,  9.40116559,  2.79315599,  3.14610078,  3.27929314,\n",
       "        2.53633721,  2.68911415,  1.98423075,  3.17198301,  2.93484803,\n",
       "        3.80816542,  3.03887987,  6.67408633,  4.08512629,  3.79541722,\n",
       "        3.99774833,  3.42385407,  2.81714773,  3.43128487,  3.65787699,\n",
       "        2.35152147,  3.62120708,  3.57204893,  3.82542059,  7.73422447,\n",
       "        4.09104117,  2.16513844,  2.77616033,  5.94030557,  1.75739612,\n",
       "        4.73903851,  3.60549648,  4.2107905 ,  4.01977799,  3.06805679,\n",
       "        4.26208449,  4.23026076,  4.02644501,  4.41248689,  4.36230414,\n",
       "        2.00572866,  2.2155735 ,  4.86585605,  2.61960643,  1.65625318,\n",
       "        4.97126438,  4.54487557,  3.58878266,  2.80185724,  3.82112861,\n",
       "        3.05812384,  1.83515815,  2.75963088,  4.09726959,  3.82356028,\n",
       "        5.01138711,  2.31983253,  3.32045596,  3.01209935,  1.83411076,\n",
       "        8.03807661,  4.21382015,  6.85111882,  1.61656324,  3.03912221,\n",
       "        4.02132187, 10.15998153,  4.26638   ,  2.95211528,  4.83201388,\n",
       "        2.73554407,  1.75955553,  4.49661646,  3.32990402,  2.99899396,\n",
       "        2.67045369,  2.85399648,  3.38731043,  2.32808939,  3.94098309,\n",
       "        4.05556425,  1.61236235,  4.66913106,  4.40303393,  4.49883762,\n",
       "        1.62257858,  2.7583104 ,  2.12711083,  1.78988895,  2.32527739,\n",
       "        2.93287461,  4.69334216,  2.76841438,  3.01059277,  2.51938857,\n",
       "        3.14961618,  2.96563992,  2.82958194,  3.91758842,  3.62841685,\n",
       "        4.36328883,  3.15895367,  3.51203342,  4.49221751,  5.08900312,\n",
       "        2.63223773,  2.96413195,  3.06178537,  7.96975399,  3.47691982,\n",
       "        2.79194848,  3.92164736,  4.78665863,  2.98396637,  3.37111527,\n",
       "        3.01780011,  2.62782453, 10.49779714,  3.40241655,  2.34599417,\n",
       "        5.52783485,  6.89519376,  4.16308091,  3.06922956,  2.25225946,\n",
       "        4.4333585 ,  7.96659508,  3.57530693,  2.65204673,  2.66025577,\n",
       "        7.0636593 ,  2.61487726,  3.70156576,  3.44393282,  3.13575034,\n",
       "        3.51312082,  4.55439611,  2.66769683,  7.61419163,  3.15455314,\n",
       "        1.73394212,  4.77939326,  3.60634236,  3.11268373,  4.40172786,\n",
       "        2.5715252 ,  2.65000046,  2.15216771,  2.77357825,  3.08235473,\n",
       "        4.06308455,  3.95109537,  1.90861813,  2.32333958,  2.04675286,\n",
       "        3.88260499,  2.11612696,  3.13477026,  2.88643821,  3.9432119 ,\n",
       "        2.65186609,  2.8657789 ,  2.59899544,  2.18702919,  2.93616322,\n",
       "        2.5758    ,  3.43189822,  2.77580712,  3.06309601,  2.05870197,\n",
       "        2.50279452,  4.15179954,  2.80047419,  7.79964142,  3.8164875 ,\n",
       "        2.28152957,  4.88229335,  3.22410648,  2.4089115 ,  4.59184676,\n",
       "        2.92299311,  1.72039908,  3.73660149,  2.81835122,  4.29465318,\n",
       "        3.94255586,  4.64614439,  2.54035416,  2.79209743,  2.66340977,\n",
       "        2.81578952,  5.02713523,  3.78597283,  1.61734684,  2.63149766,\n",
       "        5.73298951,  9.98313876,  3.87723151,  2.62494609,  3.67879336,\n",
       "        4.28846286,  4.00687761,  7.80877092,  1.96320161,  2.38737678,\n",
       "        4.10597493,  7.8034714 ,  3.08757723,  2.9110627 ,  3.93514536,\n",
       "        2.2743091 ,  2.44543676,  3.8620911 ,  2.72050822,  3.43155081,\n",
       "        3.52878973,  3.52454009,  3.54757507,  3.72889723,  2.61999306,\n",
       "        2.89881471,  4.18814166,  2.69525325,  2.94716581,  3.09484287,\n",
       "        2.18140361,  3.30082465,  3.98795111,  3.07489786,  2.81490883,\n",
       "        4.62091446,  3.85142607,  3.4964399 ,  4.39303013,  2.23079375,\n",
       "        2.82055257,  5.28502361,  3.57780354,  2.80293655,  4.55890005,\n",
       "        3.46395159,  2.97068566,  4.21163638,  2.89876635,  3.67169536,\n",
       "        3.27099427,  4.10620121,  3.93297677,  5.19520423,  3.58442367,\n",
       "        2.46519387,  3.37221771,  2.14635876,  2.63370861,  4.71717838,\n",
       "        8.150652  ,  4.17756617,  2.10375301,  2.03793421,  2.83528007,\n",
       "        9.92719191,  1.6543371 ,  8.4722556 ,  5.11179178,  3.43414025,\n",
       "        4.12355335,  2.06133695,  3.22546206,  2.44775405,  1.76371639,\n",
       "        2.97633787,  5.46642873,  2.94178451,  2.28843067,  2.76027011,\n",
       "        4.29835051,  2.00071489,  3.5107205 ,  3.59746644,  2.90892748,\n",
       "        4.48338586,  3.02249378,  1.71334587,  1.82159533,  4.77968729,\n",
       "        2.57088337,  3.7818867 ,  4.57867568,  2.27542649,  6.42839609,\n",
       "        3.80885099,  2.7973638 ,  3.30716516,  2.68329805,  4.10491692,\n",
       "        2.03524891,  5.75258541,  4.75395485,  4.10619909,  2.17167803,\n",
       "        3.66641004,  1.90185322,  1.77161855, 10.70214188,  2.10731938,\n",
       "        3.43699382,  4.94602554,  3.80057406,  2.2329304 ,  1.74613029,\n",
       "        5.32291643,  5.4194663 ,  2.52066402,  5.72281381,  2.96662406,\n",
       "        3.91489596,  3.55432791,  2.91402193,  3.21381037,  1.98404093,\n",
       "        3.52661957,  2.27622961,  1.83895067,  2.85392143,  4.18080136,\n",
       "        1.779285  ,  3.58308263,  9.05216389,  3.62154499,  2.17195344,\n",
       "        3.28328907,  2.14505861,  2.39442496,  3.08107194,  2.27448111,\n",
       "        1.85321811,  4.81449281,  8.64892789,  2.39022893,  3.42060659,\n",
       "        2.94360284,  3.27358653,  2.37670033,  2.69521658,  5.79024191,\n",
       "        3.91448475,  3.67680523,  3.88045718,  3.26051526,  3.68646808,\n",
       "        2.52198688,  4.08291212])"
      ]
     },
     "execution_count": 30,
     "metadata": {},
     "output_type": "execute_result"
    }
   ],
   "source": [
    "from sklearn.linear_model import LinearRegression\n",
    "\n",
    "\n",
    "lr = LinearRegression()  # Create a Linear Regression model, which fits a straight line to the training data\n",
    "lr.fit(X_train, y_train)  # Train the model using the training data, which trains the linear regression model using the training features (x_train) and the target values(y_train)\n",
    "pred1 = lr.predict(X_test) # Predict the 'Close' prices for the test data\n",
    "pred1"
   ]
  },
  {
   "cell_type": "code",
   "execution_count": 32,
   "metadata": {},
   "outputs": [
    {
     "name": "stdout",
     "output_type": "stream",
     "text": [
      "MSE:-  0.0015345662928849231\n",
      "RMSE:-  0.03917354072438338\n",
      "R2_score:-  0.9994383299702715\n"
     ]
    }
   ],
   "source": [
    "# MSE -- > Mean Squared Error, measures how close the predictions are to the actual values. Lower is better\n",
    "# RMSE ---> sqrt(MSE), It gives the error in the same unit as the target variable('Close' price). Lower is better\n",
    "# r2_square ---> r^2 score of 1.0 indicates a good model, represents how well the model explains the variablity of the target variable. \n",
    "\n",
    "# CALCULATING THE METRICS (MODEL EVALUATION)\n",
    "\n",
    "from sklearn.metrics import mean_squared_error, r2_score \n",
    "\n",
    "\n",
    "def calculate_metrics(y_test, y_pred):  \n",
    "    ''' \n",
    "    y_test:- ground truth \n",
    "    y_pred:- model predict  \n",
    "    '''\n",
    "    mse = mean_squared_error(y_test, y_pred) \n",
    "    rmse = np.sqrt(mse) \n",
    "    r2_scors = r2_score(y_test, y_pred) \n",
    "    \n",
    "    print(\"MSE:- \", mse) \n",
    "    print(\"RMSE:- \", rmse) \n",
    "    print(\"R2_score:- \", r2_scors) \n",
    "    \n",
    "calculate_metrics(y_test, pred1) \n",
    "\n",
    "#after seeing the output \n",
    "# mse is very low, which means the model's predictions are very close to the actual values\n",
    "# R^2 is almost 1. the model explains most of the variance in the stock 'Close' price. this indicates a very good fit"
   ]
  },
  {
   "cell_type": "code",
   "execution_count": 34,
   "metadata": {},
   "outputs": [],
   "source": [
    "from sklearn.linear_model import Lasso, Ridge \n",
    "\n",
    "#laso adds a penalty for large coefficients, forcing some coefficinets to be exaclty zero(feature selection)\n",
    "#ridge adds a penalty to prevent coefficients from becoming too large (prevents overfitting)\n",
    "\n",
    "la = Lasso().fit(X_train, y_train ) #train the laso regression model\n",
    "ri = Ridge().fit(X_train, y_train ) #train the Ridge regression model\n",
    "\n",
    "la_p = la.predict(X_test) \n",
    "ri_p = ri.predict(X_test)"
   ]
  },
  {
   "cell_type": "code",
   "execution_count": 42,
   "metadata": {},
   "outputs": [
    {
     "name": "stdout",
     "output_type": "stream",
     "text": [
      "MSE:-  0.2369233626053286\n",
      "RMSE:-  0.48674774021594447\n",
      "R2_score:-  0.9132831519010187\n"
     ]
    }
   ],
   "source": [
    "calculate_metrics(y_test, la_p) #evalute the laso model"
   ]
  },
  {
   "cell_type": "code",
   "execution_count": 44,
   "metadata": {},
   "outputs": [
    {
     "name": "stdout",
     "output_type": "stream",
     "text": [
      "MSE:-  0.0016151026199610343\n",
      "RMSE:-  0.040188339353113785\n",
      "R2_score:-  0.999408852689666\n"
     ]
    }
   ],
   "source": [
    "calculate_metrics(y_test, ri_p)\n",
    "\n",
    "# the laso model has higher RMSE and a lower R^2 score compared to Ridge, meaning Ridge fits the data better"
   ]
  },
  {
   "cell_type": "code",
   "execution_count": 23,
   "metadata": {
    "scrolled": true
   },
   "outputs": [
    {
     "name": "stdout",
     "output_type": "stream",
     "text": [
      "Fitting 5 folds for each of 25 candidates, totalling 125 fits\n",
      "[CV] C=0.1, gamma=1, kernel=rbf ......................................\n"
     ]
    },
    {
     "name": "stderr",
     "output_type": "stream",
     "text": [
      "[Parallel(n_jobs=1)]: Using backend SequentialBackend with 1 concurrent workers.\n"
     ]
    },
    {
     "name": "stdout",
     "output_type": "stream",
     "text": [
      "[CV] ......... C=0.1, gamma=1, kernel=rbf, score=-0.092, total=   0.5s\n",
      "[CV] C=0.1, gamma=1, kernel=rbf ......................................\n"
     ]
    },
    {
     "name": "stderr",
     "output_type": "stream",
     "text": [
      "[Parallel(n_jobs=1)]: Done   1 out of   1 | elapsed:    0.4s remaining:    0.0s\n"
     ]
    },
    {
     "name": "stdout",
     "output_type": "stream",
     "text": [
      "[CV] ......... C=0.1, gamma=1, kernel=rbf, score=-0.057, total=   0.5s\n",
      "[CV] C=0.1, gamma=1, kernel=rbf ......................................\n"
     ]
    },
    {
     "name": "stderr",
     "output_type": "stream",
     "text": [
      "[Parallel(n_jobs=1)]: Done   2 out of   2 | elapsed:    0.8s remaining:    0.0s\n"
     ]
    },
    {
     "name": "stdout",
     "output_type": "stream",
     "text": [
      "[CV] ......... C=0.1, gamma=1, kernel=rbf, score=-0.061, total=   0.5s\n",
      "[CV] C=0.1, gamma=1, kernel=rbf ......................................\n",
      "[CV] ......... C=0.1, gamma=1, kernel=rbf, score=-0.077, total=   0.5s\n",
      "[CV] C=0.1, gamma=1, kernel=rbf ......................................\n",
      "[CV] ......... C=0.1, gamma=1, kernel=rbf, score=-0.045, total=   0.6s\n",
      "[CV] C=0.1, gamma=0.1, kernel=rbf ....................................\n",
      "[CV] ....... C=0.1, gamma=0.1, kernel=rbf, score=-0.092, total=   0.5s\n",
      "[CV] C=0.1, gamma=0.1, kernel=rbf ....................................\n",
      "[CV] ....... C=0.1, gamma=0.1, kernel=rbf, score=-0.057, total=   0.5s\n",
      "[CV] C=0.1, gamma=0.1, kernel=rbf ....................................\n",
      "[CV] ....... C=0.1, gamma=0.1, kernel=rbf, score=-0.061, total=   0.5s\n",
      "[CV] C=0.1, gamma=0.1, kernel=rbf ....................................\n",
      "[CV] ....... C=0.1, gamma=0.1, kernel=rbf, score=-0.078, total=   0.5s\n",
      "[CV] C=0.1, gamma=0.1, kernel=rbf ....................................\n",
      "[CV] ....... C=0.1, gamma=0.1, kernel=rbf, score=-0.044, total=   0.5s\n",
      "[CV] C=0.1, gamma=0.01, kernel=rbf ...................................\n",
      "[CV] ...... C=0.1, gamma=0.01, kernel=rbf, score=-0.092, total=   0.5s\n",
      "[CV] C=0.1, gamma=0.01, kernel=rbf ...................................\n",
      "[CV] ...... C=0.1, gamma=0.01, kernel=rbf, score=-0.057, total=   0.5s\n",
      "[CV] C=0.1, gamma=0.01, kernel=rbf ...................................\n",
      "[CV] ...... C=0.1, gamma=0.01, kernel=rbf, score=-0.059, total=   0.5s\n",
      "[CV] C=0.1, gamma=0.01, kernel=rbf ...................................\n",
      "[CV] ...... C=0.1, gamma=0.01, kernel=rbf, score=-0.078, total=   0.5s\n",
      "[CV] C=0.1, gamma=0.01, kernel=rbf ...................................\n",
      "[CV] ...... C=0.1, gamma=0.01, kernel=rbf, score=-0.041, total=   0.5s\n",
      "[CV] C=0.1, gamma=0.001, kernel=rbf ..................................\n",
      "[CV] ..... C=0.1, gamma=0.001, kernel=rbf, score=-0.089, total=   0.6s\n",
      "[CV] C=0.1, gamma=0.001, kernel=rbf ..................................\n",
      "[CV] ..... C=0.1, gamma=0.001, kernel=rbf, score=-0.050, total=   0.7s\n",
      "[CV] C=0.1, gamma=0.001, kernel=rbf ..................................\n",
      "[CV] ..... C=0.1, gamma=0.001, kernel=rbf, score=-0.048, total=   0.5s\n",
      "[CV] C=0.1, gamma=0.001, kernel=rbf ..................................\n",
      "[CV] ..... C=0.1, gamma=0.001, kernel=rbf, score=-0.073, total=   0.5s\n",
      "[CV] C=0.1, gamma=0.001, kernel=rbf ..................................\n",
      "[CV] ..... C=0.1, gamma=0.001, kernel=rbf, score=-0.037, total=   0.5s\n",
      "[CV] C=0.1, gamma=0.0001, kernel=rbf .................................\n",
      "[CV] .... C=0.1, gamma=0.0001, kernel=rbf, score=-0.071, total=   0.5s\n",
      "[CV] C=0.1, gamma=0.0001, kernel=rbf .................................\n",
      "[CV] .... C=0.1, gamma=0.0001, kernel=rbf, score=-0.036, total=   0.5s\n",
      "[CV] C=0.1, gamma=0.0001, kernel=rbf .................................\n",
      "[CV] .... C=0.1, gamma=0.0001, kernel=rbf, score=-0.026, total=   0.5s\n",
      "[CV] C=0.1, gamma=0.0001, kernel=rbf .................................\n",
      "[CV] .... C=0.1, gamma=0.0001, kernel=rbf, score=-0.058, total=   0.6s\n",
      "[CV] C=0.1, gamma=0.0001, kernel=rbf .................................\n",
      "[CV] .... C=0.1, gamma=0.0001, kernel=rbf, score=-0.023, total=   0.5s\n",
      "[CV] C=1, gamma=1, kernel=rbf ........................................\n",
      "[CV] ........... C=1, gamma=1, kernel=rbf, score=-0.049, total=   0.6s\n",
      "[CV] C=1, gamma=1, kernel=rbf ........................................\n",
      "[CV] ........... C=1, gamma=1, kernel=rbf, score=-0.029, total=   0.5s\n",
      "[CV] C=1, gamma=1, kernel=rbf ........................................\n",
      "[CV] ........... C=1, gamma=1, kernel=rbf, score=-0.032, total=   0.6s\n",
      "[CV] C=1, gamma=1, kernel=rbf ........................................\n",
      "[CV] ........... C=1, gamma=1, kernel=rbf, score=-0.045, total=   0.5s\n",
      "[CV] C=1, gamma=1, kernel=rbf ........................................\n",
      "[CV] ........... C=1, gamma=1, kernel=rbf, score=-0.021, total=   0.6s\n",
      "[CV] C=1, gamma=0.1, kernel=rbf ......................................\n",
      "[CV] ......... C=1, gamma=0.1, kernel=rbf, score=-0.049, total=   0.6s\n",
      "[CV] C=1, gamma=0.1, kernel=rbf ......................................\n",
      "[CV] ......... C=1, gamma=0.1, kernel=rbf, score=-0.028, total=   0.6s\n",
      "[CV] C=1, gamma=0.1, kernel=rbf ......................................\n",
      "[CV] ......... C=1, gamma=0.1, kernel=rbf, score=-0.031, total=   0.6s\n",
      "[CV] C=1, gamma=0.1, kernel=rbf ......................................\n",
      "[CV] ......... C=1, gamma=0.1, kernel=rbf, score=-0.045, total=   0.6s\n",
      "[CV] C=1, gamma=0.1, kernel=rbf ......................................\n",
      "[CV] ......... C=1, gamma=0.1, kernel=rbf, score=-0.017, total=   0.7s\n",
      "[CV] C=1, gamma=0.01, kernel=rbf .....................................\n",
      "[CV] ........ C=1, gamma=0.01, kernel=rbf, score=-0.060, total=   0.5s\n",
      "[CV] C=1, gamma=0.01, kernel=rbf .....................................\n",
      "[CV] ........ C=1, gamma=0.01, kernel=rbf, score=-0.026, total=   0.6s\n",
      "[CV] C=1, gamma=0.01, kernel=rbf .....................................\n",
      "[CV] ........ C=1, gamma=0.01, kernel=rbf, score=-0.023, total=   0.5s\n",
      "[CV] C=1, gamma=0.01, kernel=rbf .....................................\n",
      "[CV] ........ C=1, gamma=0.01, kernel=rbf, score=-0.050, total=   0.6s\n",
      "[CV] C=1, gamma=0.01, kernel=rbf .....................................\n",
      "[CV] ........ C=1, gamma=0.01, kernel=rbf, score=-0.016, total=   0.6s\n",
      "[CV] C=1, gamma=0.001, kernel=rbf ....................................\n",
      "[CV] ....... C=1, gamma=0.001, kernel=rbf, score=-0.074, total=   0.6s\n",
      "[CV] C=1, gamma=0.001, kernel=rbf ....................................\n",
      "[CV] ....... C=1, gamma=0.001, kernel=rbf, score=-0.024, total=   0.6s\n",
      "[CV] C=1, gamma=0.001, kernel=rbf ....................................\n",
      "[CV] ........ C=1, gamma=0.001, kernel=rbf, score=0.006, total=   0.6s\n",
      "[CV] C=1, gamma=0.001, kernel=rbf ....................................\n",
      "[CV] ....... C=1, gamma=0.001, kernel=rbf, score=-0.056, total=   0.6s\n",
      "[CV] C=1, gamma=0.001, kernel=rbf ....................................\n",
      "[CV] ....... C=1, gamma=0.001, kernel=rbf, score=-0.018, total=   0.6s\n",
      "[CV] C=1, gamma=0.0001, kernel=rbf ...................................\n",
      "[CV] ...... C=1, gamma=0.0001, kernel=rbf, score=-0.057, total=   0.6s\n",
      "[CV] C=1, gamma=0.0001, kernel=rbf ...................................\n",
      "[CV] ...... C=1, gamma=0.0001, kernel=rbf, score=-0.010, total=   0.7s\n",
      "[CV] C=1, gamma=0.0001, kernel=rbf ...................................\n",
      "[CV] ....... C=1, gamma=0.0001, kernel=rbf, score=0.020, total=   0.7s\n",
      "[CV] C=1, gamma=0.0001, kernel=rbf ...................................\n",
      "[CV] ...... C=1, gamma=0.0001, kernel=rbf, score=-0.039, total=   0.5s\n",
      "[CV] C=1, gamma=0.0001, kernel=rbf ...................................\n",
      "[CV] ...... C=1, gamma=0.0001, kernel=rbf, score=-0.003, total=   0.7s\n",
      "[CV] C=10, gamma=1, kernel=rbf .......................................\n",
      "[CV] ........... C=10, gamma=1, kernel=rbf, score=0.001, total=   0.6s\n",
      "[CV] C=10, gamma=1, kernel=rbf .......................................\n",
      "[CV] ........... C=10, gamma=1, kernel=rbf, score=0.003, total=   0.7s\n",
      "[CV] C=10, gamma=1, kernel=rbf .......................................\n",
      "[CV] ........... C=10, gamma=1, kernel=rbf, score=0.000, total=   0.8s\n",
      "[CV] C=10, gamma=1, kernel=rbf .......................................\n",
      "[CV] ........... C=10, gamma=1, kernel=rbf, score=0.000, total=   0.7s\n",
      "[CV] C=10, gamma=1, kernel=rbf .......................................\n",
      "[CV] .......... C=10, gamma=1, kernel=rbf, score=-0.006, total=   0.7s\n",
      "[CV] C=10, gamma=0.1, kernel=rbf .....................................\n",
      "[CV] ......... C=10, gamma=0.1, kernel=rbf, score=0.002, total=   0.6s\n",
      "[CV] C=10, gamma=0.1, kernel=rbf .....................................\n",
      "[CV] ......... C=10, gamma=0.1, kernel=rbf, score=0.006, total=   0.7s\n",
      "[CV] C=10, gamma=0.1, kernel=rbf .....................................\n",
      "[CV] ......... C=10, gamma=0.1, kernel=rbf, score=0.004, total=   0.6s\n",
      "[CV] C=10, gamma=0.1, kernel=rbf .....................................\n",
      "[CV] ......... C=10, gamma=0.1, kernel=rbf, score=0.002, total=   0.7s\n",
      "[CV] C=10, gamma=0.1, kernel=rbf .....................................\n",
      "[CV] ......... C=10, gamma=0.1, kernel=rbf, score=0.002, total=   0.7s\n",
      "[CV] C=10, gamma=0.01, kernel=rbf ....................................\n"
     ]
    },
    {
     "name": "stdout",
     "output_type": "stream",
     "text": [
      "[CV] ....... C=10, gamma=0.01, kernel=rbf, score=-0.019, total=   0.6s\n",
      "[CV] C=10, gamma=0.01, kernel=rbf ....................................\n",
      "[CV] ........ C=10, gamma=0.01, kernel=rbf, score=0.023, total=   0.7s\n",
      "[CV] C=10, gamma=0.01, kernel=rbf ....................................\n",
      "[CV] ........ C=10, gamma=0.01, kernel=rbf, score=0.024, total=   0.7s\n",
      "[CV] C=10, gamma=0.01, kernel=rbf ....................................\n",
      "[CV] ........ C=10, gamma=0.01, kernel=rbf, score=0.009, total=   0.7s\n",
      "[CV] C=10, gamma=0.01, kernel=rbf ....................................\n",
      "[CV] ........ C=10, gamma=0.01, kernel=rbf, score=0.027, total=   0.7s\n",
      "[CV] C=10, gamma=0.001, kernel=rbf ...................................\n",
      "[CV] ...... C=10, gamma=0.001, kernel=rbf, score=-0.237, total=   0.8s\n",
      "[CV] C=10, gamma=0.001, kernel=rbf ...................................\n",
      "[CV] ...... C=10, gamma=0.001, kernel=rbf, score=-0.086, total=   0.7s\n",
      "[CV] C=10, gamma=0.001, kernel=rbf ...................................\n",
      "[CV] ...... C=10, gamma=0.001, kernel=rbf, score=-0.081, total=   0.7s\n",
      "[CV] C=10, gamma=0.001, kernel=rbf ...................................\n",
      "[CV] ...... C=10, gamma=0.001, kernel=rbf, score=-0.103, total=   0.9s\n",
      "[CV] C=10, gamma=0.001, kernel=rbf ...................................\n",
      "[CV] ...... C=10, gamma=0.001, kernel=rbf, score=-0.138, total=   0.7s\n",
      "[CV] C=10, gamma=0.0001, kernel=rbf ..................................\n",
      "[CV] ..... C=10, gamma=0.0001, kernel=rbf, score=-0.448, total=   0.9s\n",
      "[CV] C=10, gamma=0.0001, kernel=rbf ..................................\n",
      "[CV] ..... C=10, gamma=0.0001, kernel=rbf, score=-0.321, total=   0.8s\n",
      "[CV] C=10, gamma=0.0001, kernel=rbf ..................................\n",
      "[CV] ..... C=10, gamma=0.0001, kernel=rbf, score=-0.402, total=   0.7s\n",
      "[CV] C=10, gamma=0.0001, kernel=rbf ..................................\n",
      "[CV] ..... C=10, gamma=0.0001, kernel=rbf, score=-0.218, total=   0.8s\n",
      "[CV] C=10, gamma=0.0001, kernel=rbf ..................................\n",
      "[CV] ..... C=10, gamma=0.0001, kernel=rbf, score=-0.348, total=   0.8s\n",
      "[CV] C=100, gamma=1, kernel=rbf ......................................\n",
      "[CV] .......... C=100, gamma=1, kernel=rbf, score=0.001, total=   0.7s\n",
      "[CV] C=100, gamma=1, kernel=rbf ......................................\n",
      "[CV] .......... C=100, gamma=1, kernel=rbf, score=0.003, total=   0.7s\n",
      "[CV] C=100, gamma=1, kernel=rbf ......................................\n",
      "[CV] .......... C=100, gamma=1, kernel=rbf, score=0.000, total=   0.6s\n",
      "[CV] C=100, gamma=1, kernel=rbf ......................................\n",
      "[CV] .......... C=100, gamma=1, kernel=rbf, score=0.000, total=   0.6s\n",
      "[CV] C=100, gamma=1, kernel=rbf ......................................\n",
      "[CV] ......... C=100, gamma=1, kernel=rbf, score=-0.006, total=   0.7s\n",
      "[CV] C=100, gamma=0.1, kernel=rbf ....................................\n",
      "[CV] ........ C=100, gamma=0.1, kernel=rbf, score=0.002, total=   0.6s\n",
      "[CV] C=100, gamma=0.1, kernel=rbf ....................................\n",
      "[CV] ........ C=100, gamma=0.1, kernel=rbf, score=0.006, total=   0.7s\n",
      "[CV] C=100, gamma=0.1, kernel=rbf ....................................\n",
      "[CV] ........ C=100, gamma=0.1, kernel=rbf, score=0.004, total=   0.7s\n",
      "[CV] C=100, gamma=0.1, kernel=rbf ....................................\n",
      "[CV] ........ C=100, gamma=0.1, kernel=rbf, score=0.002, total=   0.8s\n",
      "[CV] C=100, gamma=0.1, kernel=rbf ....................................\n",
      "[CV] ........ C=100, gamma=0.1, kernel=rbf, score=0.002, total=   0.7s\n",
      "[CV] C=100, gamma=0.01, kernel=rbf ...................................\n",
      "[CV] ...... C=100, gamma=0.01, kernel=rbf, score=-0.019, total=   0.7s\n",
      "[CV] C=100, gamma=0.01, kernel=rbf ...................................\n",
      "[CV] ....... C=100, gamma=0.01, kernel=rbf, score=0.023, total=   0.7s\n",
      "[CV] C=100, gamma=0.01, kernel=rbf ...................................\n",
      "[CV] ....... C=100, gamma=0.01, kernel=rbf, score=0.024, total=   0.7s\n",
      "[CV] C=100, gamma=0.01, kernel=rbf ...................................\n",
      "[CV] ....... C=100, gamma=0.01, kernel=rbf, score=0.009, total=   0.6s\n",
      "[CV] C=100, gamma=0.01, kernel=rbf ...................................\n",
      "[CV] ....... C=100, gamma=0.01, kernel=rbf, score=0.027, total=   0.8s\n",
      "[CV] C=100, gamma=0.001, kernel=rbf ..................................\n",
      "[CV] ..... C=100, gamma=0.001, kernel=rbf, score=-0.290, total=   1.1s\n",
      "[CV] C=100, gamma=0.001, kernel=rbf ..................................\n",
      "[CV] ..... C=100, gamma=0.001, kernel=rbf, score=-0.106, total=   1.0s\n",
      "[CV] C=100, gamma=0.001, kernel=rbf ..................................\n",
      "[CV] ..... C=100, gamma=0.001, kernel=rbf, score=-0.119, total=   1.0s\n",
      "[CV] C=100, gamma=0.001, kernel=rbf ..................................\n",
      "[CV] ..... C=100, gamma=0.001, kernel=rbf, score=-0.118, total=   0.9s\n",
      "[CV] C=100, gamma=0.001, kernel=rbf ..................................\n",
      "[CV] ..... C=100, gamma=0.001, kernel=rbf, score=-0.172, total=   0.9s\n",
      "[CV] C=100, gamma=0.0001, kernel=rbf .................................\n",
      "[CV] .... C=100, gamma=0.0001, kernel=rbf, score=-0.883, total=   2.0s\n",
      "[CV] C=100, gamma=0.0001, kernel=rbf .................................\n",
      "[CV] .... C=100, gamma=0.0001, kernel=rbf, score=-0.819, total=   2.1s\n",
      "[CV] C=100, gamma=0.0001, kernel=rbf .................................\n",
      "[CV] .... C=100, gamma=0.0001, kernel=rbf, score=-0.962, total=   1.8s\n",
      "[CV] C=100, gamma=0.0001, kernel=rbf .................................\n",
      "[CV] .... C=100, gamma=0.0001, kernel=rbf, score=-0.455, total=   1.9s\n",
      "[CV] C=100, gamma=0.0001, kernel=rbf .................................\n",
      "[CV] .... C=100, gamma=0.0001, kernel=rbf, score=-0.852, total=   1.9s\n",
      "[CV] C=1000, gamma=1, kernel=rbf .....................................\n",
      "[CV] ......... C=1000, gamma=1, kernel=rbf, score=0.001, total=   0.8s\n",
      "[CV] C=1000, gamma=1, kernel=rbf .....................................\n",
      "[CV] ......... C=1000, gamma=1, kernel=rbf, score=0.003, total=   0.7s\n",
      "[CV] C=1000, gamma=1, kernel=rbf .....................................\n",
      "[CV] ......... C=1000, gamma=1, kernel=rbf, score=0.000, total=   0.7s\n",
      "[CV] C=1000, gamma=1, kernel=rbf .....................................\n",
      "[CV] ......... C=1000, gamma=1, kernel=rbf, score=0.000, total=   0.8s\n",
      "[CV] C=1000, gamma=1, kernel=rbf .....................................\n",
      "[CV] ........ C=1000, gamma=1, kernel=rbf, score=-0.006, total=   0.7s\n",
      "[CV] C=1000, gamma=0.1, kernel=rbf ...................................\n",
      "[CV] ....... C=1000, gamma=0.1, kernel=rbf, score=0.002, total=   0.7s\n",
      "[CV] C=1000, gamma=0.1, kernel=rbf ...................................\n",
      "[CV] ....... C=1000, gamma=0.1, kernel=rbf, score=0.006, total=   0.8s\n",
      "[CV] C=1000, gamma=0.1, kernel=rbf ...................................\n",
      "[CV] ....... C=1000, gamma=0.1, kernel=rbf, score=0.004, total=   0.7s\n",
      "[CV] C=1000, gamma=0.1, kernel=rbf ...................................\n",
      "[CV] ....... C=1000, gamma=0.1, kernel=rbf, score=0.002, total=   0.7s\n",
      "[CV] C=1000, gamma=0.1, kernel=rbf ...................................\n",
      "[CV] ....... C=1000, gamma=0.1, kernel=rbf, score=0.002, total=   0.8s\n",
      "[CV] C=1000, gamma=0.01, kernel=rbf ..................................\n",
      "[CV] ..... C=1000, gamma=0.01, kernel=rbf, score=-0.019, total=   0.7s\n",
      "[CV] C=1000, gamma=0.01, kernel=rbf ..................................\n",
      "[CV] ...... C=1000, gamma=0.01, kernel=rbf, score=0.023, total=   0.8s\n",
      "[CV] C=1000, gamma=0.01, kernel=rbf ..................................\n",
      "[CV] ...... C=1000, gamma=0.01, kernel=rbf, score=0.024, total=   0.7s\n",
      "[CV] C=1000, gamma=0.01, kernel=rbf ..................................\n",
      "[CV] ...... C=1000, gamma=0.01, kernel=rbf, score=0.009, total=   0.7s\n",
      "[CV] C=1000, gamma=0.01, kernel=rbf ..................................\n",
      "[CV] ...... C=1000, gamma=0.01, kernel=rbf, score=0.027, total=   0.9s\n",
      "[CV] C=1000, gamma=0.001, kernel=rbf .................................\n",
      "[CV] .... C=1000, gamma=0.001, kernel=rbf, score=-0.291, total=   1.1s\n",
      "[CV] C=1000, gamma=0.001, kernel=rbf .................................\n",
      "[CV] .... C=1000, gamma=0.001, kernel=rbf, score=-0.107, total=   1.0s\n",
      "[CV] C=1000, gamma=0.001, kernel=rbf .................................\n",
      "[CV] .... C=1000, gamma=0.001, kernel=rbf, score=-0.120, total=   0.9s\n",
      "[CV] C=1000, gamma=0.001, kernel=rbf .................................\n"
     ]
    },
    {
     "name": "stdout",
     "output_type": "stream",
     "text": [
      "[CV] .... C=1000, gamma=0.001, kernel=rbf, score=-0.119, total=   1.0s\n",
      "[CV] C=1000, gamma=0.001, kernel=rbf .................................\n",
      "[CV] .... C=1000, gamma=0.001, kernel=rbf, score=-0.173, total=   1.0s\n",
      "[CV] C=1000, gamma=0.0001, kernel=rbf ................................\n",
      "[CV] ... C=1000, gamma=0.0001, kernel=rbf, score=-1.018, total=   7.7s\n",
      "[CV] C=1000, gamma=0.0001, kernel=rbf ................................\n",
      "[CV] ... C=1000, gamma=0.0001, kernel=rbf, score=-1.227, total=   9.9s\n",
      "[CV] C=1000, gamma=0.0001, kernel=rbf ................................\n",
      "[CV] ... C=1000, gamma=0.0001, kernel=rbf, score=-1.332, total=   7.9s\n",
      "[CV] C=1000, gamma=0.0001, kernel=rbf ................................\n",
      "[CV] ... C=1000, gamma=0.0001, kernel=rbf, score=-0.573, total=   8.3s\n",
      "[CV] C=1000, gamma=0.0001, kernel=rbf ................................\n",
      "[CV] ... C=1000, gamma=0.0001, kernel=rbf, score=-0.985, total=   8.2s\n"
     ]
    },
    {
     "name": "stderr",
     "output_type": "stream",
     "text": [
      "[Parallel(n_jobs=1)]: Done 125 out of 125 | elapsed:  2.2min finished\n"
     ]
    },
    {
     "data": {
      "text/plain": [
       "GridSearchCV(estimator=SVR(),\n",
       "             param_grid={'C': [0.1, 1, 10, 100, 1000],\n",
       "                         'gamma': [1, 0.1, 0.01, 0.001, 0.0001],\n",
       "                         'kernel': ['rbf']},\n",
       "             verbose=3)"
      ]
     },
     "execution_count": 23,
     "metadata": {},
     "output_type": "execute_result"
    }
   ],
   "source": [
    "'''\n",
    "    SVR: A more flexible regression model that can capture non-linear relationships by transforming the input features using kernels.\n",
    "\n",
    "    GridSearchCV: Automates the process of finding the best hyperparameters for the SVR model.\n",
    "      It tries all combinations of C, gamma, and kernel parameters and selects the best based on cross-validation\n",
    "'''\n",
    "\n",
    "from sklearn.svm import SVR \n",
    "from sklearn.model_selection import GridSearchCV \n",
    "\n",
    "svr = SVR() \n",
    "\n",
    "'''\n",
    "param_grid:  defines the values of C (regularization), \n",
    "            gamma (kernel coefficient), and \n",
    "            kernel (the type of kernel function, \n",
    "            here using 'rbf' for the radial basis function) to try during grid search.\n",
    "'''\n",
    "\n",
    "param_grid = {'C': [0.1, 1, 10, 100, 1000],  \n",
    "              'gamma': [1, 0.1, 0.01, 0.001, 0.0001], \n",
    "              'kernel': ['rbf']}   \n",
    "\n",
    "grid = GridSearchCV(SVR(), param_grid, refit=True, verbose=3)    \n",
    "grid.fit(X_train, y_train)"
   ]
  },
  {
   "cell_type": "code",
   "execution_count": 24,
   "metadata": {},
   "outputs": [],
   "source": [
    "svr = SVR(C=10, gamma=0.01, kernel='rbf') #use best parameters found by gridsearchcv\n",
    "svr.fit(X_train, y_train) \n",
    "svr_pred = svr.predict(X_test) \n",
    "\n",
    "# after finding he best parameters(eg. c=10, gamma=0.01), retrain the svr model & use it to predict the 'Close' prices on the test data"
   ]
  },
  {
   "cell_type": "code",
   "execution_count": 46,
   "metadata": {},
   "outputs": [],
   "source": [
    "# saving the model\n",
    "import joblib  \n",
    "\n",
    "joblib.dump(ri, 'model.pkl') \n",
    "\n",
    "ridge_from_joblib = model = joblib.load(\"model.pkl\")"
   ]
  },
  {
   "cell_type": "code",
   "execution_count": null,
   "metadata": {},
   "outputs": [],
   "source": []
  },
  {
   "cell_type": "code",
   "execution_count": null,
   "metadata": {},
   "outputs": [],
   "source": []
  },
  {
   "cell_type": "code",
   "execution_count": null,
   "metadata": {},
   "outputs": [],
   "source": []
  },
  {
   "cell_type": "code",
   "execution_count": null,
   "metadata": {},
   "outputs": [],
   "source": []
  },
  {
   "cell_type": "code",
   "execution_count": null,
   "metadata": {},
   "outputs": [],
   "source": []
  },
  {
   "cell_type": "code",
   "execution_count": null,
   "metadata": {},
   "outputs": [],
   "source": []
  },
  {
   "cell_type": "code",
   "execution_count": null,
   "metadata": {},
   "outputs": [],
   "source": []
  }
 ],
 "metadata": {
  "kernelspec": {
   "display_name": "Python 3 (ipykernel)",
   "language": "python",
   "name": "python3"
  },
  "language_info": {
   "codemirror_mode": {
    "name": "ipython",
    "version": 3
   },
   "file_extension": ".py",
   "mimetype": "text/x-python",
   "name": "python",
   "nbconvert_exporter": "python",
   "pygments_lexer": "ipython3",
   "version": "3.12.4"
  }
 },
 "nbformat": 4,
 "nbformat_minor": 4
}
